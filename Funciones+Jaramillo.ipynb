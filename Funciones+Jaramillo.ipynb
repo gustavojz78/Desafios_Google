{
  "nbformat": 4,
  "nbformat_minor": 0,
  "metadata": {
    "colab": {
      "name": "Funciones+Jaramillo.ipynb",
      "provenance": [],
      "collapsed_sections": [],
      "authorship_tag": "ABX9TyP5k1nAd8RIDpbFQNdNeXB8",
      "include_colab_link": true
    },
    "kernelspec": {
      "name": "python3",
      "display_name": "Python 3"
    },
    "language_info": {
      "name": "python"
    }
  },
  "cells": [
    {
      "cell_type": "markdown",
      "metadata": {
        "id": "view-in-github",
        "colab_type": "text"
      },
      "source": [
        "<a href=\"https://colab.research.google.com/github/gustavojz78/Desafios_Google/blob/main/Funciones%2BJaramillo.ipynb\" target=\"_parent\"><img src=\"https://colab.research.google.com/assets/colab-badge.svg\" alt=\"Open In Colab\"/></a>"
      ]
    },
    {
      "cell_type": "code",
      "execution_count": null,
      "metadata": {
        "colab": {
          "base_uri": "https://localhost:8080/"
        },
        "id": "YaWrC-BRJCYk",
        "outputId": "95c1cdaa-6336-46dd-fc07-f33a0c8d32f2"
      },
      "outputs": [
        {
          "output_type": "stream",
          "name": "stdout",
          "text": [
            "Intorduzca valor de la altura en cm :25\n",
            "introduzca valor de la base en cm:10\n",
            "El area del rectangulo de  altura 25 cm  y base 10 cm es 250 cm2 \n"
          ]
        }
      ],
      "source": [
        "def area_rectangulo(a,b):\n",
        "  return a*b\n",
        "\n",
        "a= int(input(\"Intorduzca valor de la altura en cm :\"))\n",
        "b = int(input(\"introduzca valor de la base en cm:\"))\n",
        "\n",
        "res = area_rectangulo(a,b)\n",
        "print(f\"El area del rectangulo de  altura {a} cm  y base {b} cm es {res} cm2 \")"
      ]
    },
    {
      "cell_type": "code",
      "source": [
        "import math\n",
        "\n",
        "def area_circulo(radio):\n",
        "\n",
        "  return math.pi*radio**2\n",
        "\n",
        "radio= int(input(\"Intorduzca valor del radio en cm :\"))\n",
        "\n",
        "res = round (area_circulo(radio),4)\n",
        "print(f\"El area del circulo para un radio de {radio} cm es {res} cm2 \")"
      ],
      "metadata": {
        "colab": {
          "base_uri": "https://localhost:8080/"
        },
        "id": "qjBtdVhaKo5v",
        "outputId": "f70bfdd1-1331-4f00-cd4b-4d9a00928248"
      },
      "execution_count": null,
      "outputs": [
        {
          "output_type": "stream",
          "name": "stdout",
          "text": [
            "Intorduzca valor del radio en cm :5\n",
            "El area del circulo para un radio de 5 cm es 78.5398 cm2 \n"
          ]
        }
      ]
    },
    {
      "cell_type": "code",
      "source": [
        "def relacion(a,b):\n",
        "  if a > b :\n",
        "    return 1\n",
        "  elif a == b :\n",
        "    return 0\n",
        "  else:\n",
        "    return -1\n",
        "\n",
        "a= int(input(\"Intorduzca valor del primer digito :\"))\n",
        "b = int(input(\"introduzca valor del segundo digito :\"))\n",
        "resp= relacion(a,b)\n",
        "print(f\"la respuesta es : {resp}\")"
      ],
      "metadata": {
        "id": "Ssm322w7MrqY"
      },
      "execution_count": null,
      "outputs": []
    },
    {
      "cell_type": "code",
      "source": [
        "def intermedio(a,b):\n",
        " return (a+b)/2\n",
        "\n",
        "\n",
        "a= int(input(\"Intorduzca valor de a :\"))\n",
        "b = int(input(\"introduzca valor de b :\"))\n",
        "resp= intermedio(a,b)\n",
        "print(f\"El numero medio es {resp}\")"
      ],
      "metadata": {
        "colab": {
          "base_uri": "https://localhost:8080/"
        },
        "id": "d7xh9nbrPZrX",
        "outputId": "c364f3f5-31ad-44ac-d4e4-11304dc4d439"
      },
      "execution_count": null,
      "outputs": [
        {
          "output_type": "stream",
          "name": "stdout",
          "text": [
            "Intorduzca valor de a :2\n",
            "introduzca valor de b :6\n",
            "El numero medio es 4.0\n"
          ]
        }
      ]
    },
    {
      "cell_type": "code",
      "source": [
        "def recortar(inferior,superior,numero):\n",
        "    if numero <= inferior :\n",
        "     return inferior\n",
        "    elif numero >= superior:   \n",
        "     return superior\n",
        "    elif numero > inferior and numero < superior:\n",
        "      return numero\n",
        "      \n",
        "flag = True\n",
        "\n",
        "while flag :\n",
        "\n",
        "  inferior = int(input(\"introduzca limite inferior :\"))\n",
        "  superior = int(input(\"introduzca limite superior :\"))\n",
        " \n",
        "  if superior > inferior:\n",
        "     numero = int(input(\"introduzca el numero a recortar :\")) \n",
        "     res = recortar(inferior,superior,numero)  \n",
        "     print(res, type(res))\n",
        "     flag = False\n",
        "  else:\n",
        "    print(\"El limite superior esta por debajo del inferior, reacomodelos por favor\")\n"
      ],
      "metadata": {
        "colab": {
          "base_uri": "https://localhost:8080/"
        },
        "id": "T6syqoQRUFMR",
        "outputId": "334924eb-d8ec-405e-cc41-261a8d07be1b"
      },
      "execution_count": null,
      "outputs": [
        {
          "output_type": "stream",
          "name": "stdout",
          "text": [
            "introduzca limite inferior :10\n",
            "introduzca limite superior :15\n",
            "introduzca el numero a recortar :5\n",
            "10 <class 'int'>\n"
          ]
        }
      ]
    },
    {
      "cell_type": "code",
      "source": [
        "def separar():\n",
        "  lista_par=[]\n",
        "  lista_impar=[]\n",
        "  print(f\"Usted ingreso la lista {lista}\")\n",
        "  lista.sort()\n",
        "  for n in lista:\n",
        "    if n %2 == 0:\n",
        "      lista_par.append(n)\n",
        "    if n % 2 == 1: \n",
        "      lista_impar.append(n)\n",
        "  return lista_par, lista_impar\n",
        "\n",
        "while True:\n",
        "  lista=[]\n",
        "  numeros = int(input(\"Ingrese cuantos numeros quiere colocar en la lista, ingrese al menos 2 :\"))\n",
        "  cont=numeros\n",
        "  if numeros >= 2 :\n",
        "    print(\"empieze a ingresar numeros\")\n",
        "    for i in range (numeros):\n",
        "       numero =int(input(\"ingrese un numero : \"))\n",
        "       lista.append(numero)\n",
        "    break\n",
        "  else: \n",
        "    print(\"Debe ingresar al menos dos, vuelva a intentarlo\")\n",
        "\n",
        "separar()\n",
        "\n"
      ],
      "metadata": {
        "colab": {
          "base_uri": "https://localhost:8080/"
        },
        "id": "p_rzloYVy5MO",
        "outputId": "41c69ebb-de14-41c4-b3f0-3720484a60d8"
      },
      "execution_count": null,
      "outputs": [
        {
          "output_type": "stream",
          "name": "stdout",
          "text": [
            "Ingrese cuantos numeros quiere colocar en la lista, ingrese al menos 2 :5\n",
            "empieze a ingresar numeros\n",
            "ingrese un numero : 2\n",
            "ingrese un numero : 4\n",
            "ingrese un numero : 5\n",
            "ingrese un numero : 2\n",
            "ingrese un numero : 6\n",
            "Usted ingreso la lista [2, 4, 5, 2, 6]\n"
          ]
        },
        {
          "output_type": "execute_result",
          "data": {
            "text/plain": [
              "([2, 2, 4, 6], [5])"
            ]
          },
          "metadata": {},
          "execution_count": 7
        }
      ]
    }
  ]
}